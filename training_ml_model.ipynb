{
 "cells": [
  {
   "cell_type": "code",
   "execution_count": 19,
   "metadata": {},
   "outputs": [],
   "source": [
    "import mediapipe as mp\n",
    "import numpy as np \n",
    "import pandas as pd\n",
    "from sklearn.model_selection import train_test_split\n",
    "from sklearn.pipeline import make_pipeline \n",
    "from sklearn.preprocessing import StandardScaler \n",
    "from sklearn.linear_model import LogisticRegression, RidgeClassifier\n",
    "from sklearn.ensemble import RandomForestClassifier, GradientBoostingClassifier\n",
    "from sklearn.metrics import accuracy_score # Accuracy metrics \n",
    "import pickle\n",
    "import cv2"
   ]
  },
  {
   "cell_type": "code",
   "execution_count": 20,
   "metadata": {},
   "outputs": [
    {
     "data": {
      "text/html": [
       "<div>\n",
       "<style scoped>\n",
       "    .dataframe tbody tr th:only-of-type {\n",
       "        vertical-align: middle;\n",
       "    }\n",
       "\n",
       "    .dataframe tbody tr th {\n",
       "        vertical-align: top;\n",
       "    }\n",
       "\n",
       "    .dataframe thead th {\n",
       "        text-align: right;\n",
       "    }\n",
       "</style>\n",
       "<table border=\"1\" class=\"dataframe\">\n",
       "  <thead>\n",
       "    <tr style=\"text-align: right;\">\n",
       "      <th></th>\n",
       "      <th>class</th>\n",
       "      <th>x1</th>\n",
       "      <th>y1</th>\n",
       "      <th>z1</th>\n",
       "      <th>v1</th>\n",
       "      <th>x2</th>\n",
       "      <th>y2</th>\n",
       "      <th>z2</th>\n",
       "      <th>v2</th>\n",
       "      <th>x3</th>\n",
       "      <th>...</th>\n",
       "      <th>z31</th>\n",
       "      <th>v31</th>\n",
       "      <th>x32</th>\n",
       "      <th>y32</th>\n",
       "      <th>z32</th>\n",
       "      <th>v32</th>\n",
       "      <th>x33</th>\n",
       "      <th>y33</th>\n",
       "      <th>z33</th>\n",
       "      <th>v33</th>\n",
       "    </tr>\n",
       "  </thead>\n",
       "  <tbody>\n",
       "    <tr>\n",
       "      <th>0</th>\n",
       "      <td>Tree Pose</td>\n",
       "      <td>0.490151</td>\n",
       "      <td>0.463064</td>\n",
       "      <td>-0.149627</td>\n",
       "      <td>0.998345</td>\n",
       "      <td>0.493450</td>\n",
       "      <td>0.455039</td>\n",
       "      <td>-0.134026</td>\n",
       "      <td>0.997327</td>\n",
       "      <td>0.496103</td>\n",
       "      <td>...</td>\n",
       "      <td>0.037577</td>\n",
       "      <td>0.921816</td>\n",
       "      <td>0.478882</td>\n",
       "      <td>0.912103</td>\n",
       "      <td>-0.026458</td>\n",
       "      <td>0.957253</td>\n",
       "      <td>0.442968</td>\n",
       "      <td>0.808148</td>\n",
       "      <td>-0.028726</td>\n",
       "      <td>0.932695</td>\n",
       "    </tr>\n",
       "    <tr>\n",
       "      <th>1</th>\n",
       "      <td>Tree Pose</td>\n",
       "      <td>0.489913</td>\n",
       "      <td>0.463046</td>\n",
       "      <td>-0.175815</td>\n",
       "      <td>0.998416</td>\n",
       "      <td>0.493334</td>\n",
       "      <td>0.454889</td>\n",
       "      <td>-0.161067</td>\n",
       "      <td>0.997429</td>\n",
       "      <td>0.495978</td>\n",
       "      <td>...</td>\n",
       "      <td>0.091082</td>\n",
       "      <td>0.922260</td>\n",
       "      <td>0.478605</td>\n",
       "      <td>0.917691</td>\n",
       "      <td>-0.054296</td>\n",
       "      <td>0.959020</td>\n",
       "      <td>0.442231</td>\n",
       "      <td>0.807574</td>\n",
       "      <td>0.033542</td>\n",
       "      <td>0.932590</td>\n",
       "    </tr>\n",
       "    <tr>\n",
       "      <th>2</th>\n",
       "      <td>Tree Pose</td>\n",
       "      <td>0.489359</td>\n",
       "      <td>0.463073</td>\n",
       "      <td>-0.172856</td>\n",
       "      <td>0.998480</td>\n",
       "      <td>0.492987</td>\n",
       "      <td>0.454875</td>\n",
       "      <td>-0.158468</td>\n",
       "      <td>0.997525</td>\n",
       "      <td>0.495625</td>\n",
       "      <td>...</td>\n",
       "      <td>0.104764</td>\n",
       "      <td>0.923758</td>\n",
       "      <td>0.478351</td>\n",
       "      <td>0.919851</td>\n",
       "      <td>-0.064953</td>\n",
       "      <td>0.960859</td>\n",
       "      <td>0.441097</td>\n",
       "      <td>0.807404</td>\n",
       "      <td>0.046347</td>\n",
       "      <td>0.933380</td>\n",
       "    </tr>\n",
       "    <tr>\n",
       "      <th>3</th>\n",
       "      <td>Tree Pose</td>\n",
       "      <td>0.489268</td>\n",
       "      <td>0.463092</td>\n",
       "      <td>-0.172518</td>\n",
       "      <td>0.998563</td>\n",
       "      <td>0.492921</td>\n",
       "      <td>0.454861</td>\n",
       "      <td>-0.157928</td>\n",
       "      <td>0.997649</td>\n",
       "      <td>0.495551</td>\n",
       "      <td>...</td>\n",
       "      <td>0.108208</td>\n",
       "      <td>0.925470</td>\n",
       "      <td>0.477707</td>\n",
       "      <td>0.920935</td>\n",
       "      <td>-0.065901</td>\n",
       "      <td>0.962725</td>\n",
       "      <td>0.440836</td>\n",
       "      <td>0.807476</td>\n",
       "      <td>0.048694</td>\n",
       "      <td>0.934348</td>\n",
       "    </tr>\n",
       "    <tr>\n",
       "      <th>4</th>\n",
       "      <td>Tree Pose</td>\n",
       "      <td>0.489281</td>\n",
       "      <td>0.463099</td>\n",
       "      <td>-0.165300</td>\n",
       "      <td>0.998647</td>\n",
       "      <td>0.492948</td>\n",
       "      <td>0.454850</td>\n",
       "      <td>-0.150105</td>\n",
       "      <td>0.997778</td>\n",
       "      <td>0.495564</td>\n",
       "      <td>...</td>\n",
       "      <td>0.102023</td>\n",
       "      <td>0.925985</td>\n",
       "      <td>0.477696</td>\n",
       "      <td>0.922305</td>\n",
       "      <td>-0.082190</td>\n",
       "      <td>0.964142</td>\n",
       "      <td>0.440865</td>\n",
       "      <td>0.807451</td>\n",
       "      <td>0.043730</td>\n",
       "      <td>0.934003</td>\n",
       "    </tr>\n",
       "  </tbody>\n",
       "</table>\n",
       "<p>5 rows × 133 columns</p>\n",
       "</div>"
      ],
      "text/plain": [
       "       class        x1        y1        z1        v1        x2        y2  \\\n",
       "0  Tree Pose  0.490151  0.463064 -0.149627  0.998345  0.493450  0.455039   \n",
       "1  Tree Pose  0.489913  0.463046 -0.175815  0.998416  0.493334  0.454889   \n",
       "2  Tree Pose  0.489359  0.463073 -0.172856  0.998480  0.492987  0.454875   \n",
       "3  Tree Pose  0.489268  0.463092 -0.172518  0.998563  0.492921  0.454861   \n",
       "4  Tree Pose  0.489281  0.463099 -0.165300  0.998647  0.492948  0.454850   \n",
       "\n",
       "         z2        v2        x3  ...       z31       v31       x32       y32  \\\n",
       "0 -0.134026  0.997327  0.496103  ...  0.037577  0.921816  0.478882  0.912103   \n",
       "1 -0.161067  0.997429  0.495978  ...  0.091082  0.922260  0.478605  0.917691   \n",
       "2 -0.158468  0.997525  0.495625  ...  0.104764  0.923758  0.478351  0.919851   \n",
       "3 -0.157928  0.997649  0.495551  ...  0.108208  0.925470  0.477707  0.920935   \n",
       "4 -0.150105  0.997778  0.495564  ...  0.102023  0.925985  0.477696  0.922305   \n",
       "\n",
       "        z32       v32       x33       y33       z33       v33  \n",
       "0 -0.026458  0.957253  0.442968  0.808148 -0.028726  0.932695  \n",
       "1 -0.054296  0.959020  0.442231  0.807574  0.033542  0.932590  \n",
       "2 -0.064953  0.960859  0.441097  0.807404  0.046347  0.933380  \n",
       "3 -0.065901  0.962725  0.440836  0.807476  0.048694  0.934348  \n",
       "4 -0.082190  0.964142  0.440865  0.807451  0.043730  0.934003  \n",
       "\n",
       "[5 rows x 133 columns]"
      ]
     },
     "execution_count": 20,
     "metadata": {},
     "output_type": "execute_result"
    }
   ],
   "source": [
    "\n",
    "df = pd.read_csv(r'd:\\YogiSync\\data\\dataset\\landmarks.csv')\n",
    "df.head()"
   ]
  },
  {
   "cell_type": "code",
   "execution_count": 21,
   "metadata": {},
   "outputs": [
    {
     "data": {
      "text/plain": [
       "(9071, 133)"
      ]
     },
     "execution_count": 21,
     "metadata": {},
     "output_type": "execute_result"
    }
   ],
   "source": [
    "df.shape"
   ]
  },
  {
   "cell_type": "code",
   "execution_count": 22,
   "metadata": {},
   "outputs": [
    {
     "data": {
      "text/plain": [
       "class\n",
       "Chair Pose       1674\n",
       "Warrior Pose     1621\n",
       "Triangle Pose    1614\n",
       "Tree Pose        1494\n",
       "Plank Pose       1482\n",
       "Raised Hands     1186\n",
       "Name: count, dtype: int64"
      ]
     },
     "execution_count": 22,
     "metadata": {},
     "output_type": "execute_result"
    }
   ],
   "source": [
    "df['class'].value_counts()"
   ]
  },
  {
   "cell_type": "code",
   "execution_count": 23,
   "metadata": {},
   "outputs": [],
   "source": [
    "X = df.drop('class', axis=1) # features\n",
    "y = df['class'] # target value"
   ]
  },
  {
   "cell_type": "code",
   "execution_count": 24,
   "metadata": {},
   "outputs": [],
   "source": [
    "X_train, X_test, y_train, y_test = train_test_split(X, y, test_size=0.2, random_state=1234)"
   ]
  },
  {
   "cell_type": "code",
   "execution_count": 25,
   "metadata": {},
   "outputs": [],
   "source": [
    "pipelines = {\n",
    "    'lr':make_pipeline(StandardScaler(), LogisticRegression()),\n",
    "    'rc':make_pipeline(StandardScaler(), RidgeClassifier()),\n",
    "    'rf':make_pipeline(StandardScaler(), RandomForestClassifier()),\n",
    "    'gb':make_pipeline(StandardScaler(), GradientBoostingClassifier()),\n",
    "}"
   ]
  },
  {
   "cell_type": "code",
   "execution_count": 26,
   "metadata": {},
   "outputs": [],
   "source": [
    "fit_models = {}\n",
    "for algo, pipeline in pipelines.items():\n",
    "    model = pipeline.fit(X_train, y_train)\n",
    "    fit_models[algo] = model"
   ]
  },
  {
   "cell_type": "code",
   "execution_count": 27,
   "metadata": {},
   "outputs": [
    {
     "data": {
      "text/plain": [
       "{'lr': Pipeline(steps=[('standardscaler', StandardScaler()),\n",
       "                 ('logisticregression', LogisticRegression())]),\n",
       " 'rc': Pipeline(steps=[('standardscaler', StandardScaler()),\n",
       "                 ('ridgeclassifier', RidgeClassifier())]),\n",
       " 'rf': Pipeline(steps=[('standardscaler', StandardScaler()),\n",
       "                 ('randomforestclassifier', RandomForestClassifier())]),\n",
       " 'gb': Pipeline(steps=[('standardscaler', StandardScaler()),\n",
       "                 ('gradientboostingclassifier', GradientBoostingClassifier())])}"
      ]
     },
     "execution_count": 27,
     "metadata": {},
     "output_type": "execute_result"
    }
   ],
   "source": [
    "fit_models"
   ]
  },
  {
   "cell_type": "code",
   "execution_count": 28,
   "metadata": {},
   "outputs": [
    {
     "name": "stdout",
     "output_type": "stream",
     "text": [
      "lr 1.0\n",
      "rc 1.0\n",
      "rf 1.0\n",
      "gb 1.0\n"
     ]
    }
   ],
   "source": [
    "for algo, model in fit_models.items():\n",
    "    yhat = model.predict(X_test)\n",
    "    print(algo, accuracy_score(y_test, yhat))"
   ]
  },
  {
   "cell_type": "code",
   "execution_count": 29,
   "metadata": {},
   "outputs": [],
   "source": [
    "with open('yoga_v1.pkl', 'wb') as f:\n",
    "    pickle.dump(fit_models['rf'], f)"
   ]
  }
 ],
 "metadata": {
  "kernelspec": {
   "display_name": "Python 3",
   "language": "python",
   "name": "python3"
  },
  "language_info": {
   "codemirror_mode": {
    "name": "ipython",
    "version": 3
   },
   "file_extension": ".py",
   "mimetype": "text/x-python",
   "name": "python",
   "nbconvert_exporter": "python",
   "pygments_lexer": "ipython3",
   "version": "3.11.0"
  }
 },
 "nbformat": 4,
 "nbformat_minor": 2
}
